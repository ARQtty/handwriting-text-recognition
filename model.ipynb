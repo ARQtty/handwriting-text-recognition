{
 "cells": [
  {
   "cell_type": "code",
   "execution_count": null,
   "metadata": {},
   "outputs": [],
   "source": [
    "import tensorflow as tf\n",
    "import numpy as np\n",
    "from tensorflow.layers import conv2d, max_pooling2d, flatten\n",
    "from tensorflow.nn import relu\n"
   ]
  },
  {
   "cell_type": "code",
   "execution_count": null,
   "metadata": {},
   "outputs": [],
   "source": [
    "# IAM dataset contains 79 chars\n",
    "charList = \"qwertyuiopasdfghjklzxcvbnmQWERTYUIOPLKJHGFDSAZXCVBNM1234567890“!”#&’()*+,-./:;?\""
   ]
  },
  {
   "cell_type": "markdown",
   "metadata": {},
   "source": [
    "## Example image"
   ]
  },
  {
   "cell_type": "code",
   "execution_count": null,
   "metadata": {},
   "outputs": [],
   "source": [
    "from matplotlib import pyplot as plt\n",
    "%matplotlib inline\n",
    "img = np.trunc(np.random.random((32, 128)) * 255)\n",
    "plt.imshow(img, cmap='gray')"
   ]
  },
  {
   "cell_type": "markdown",
   "metadata": {},
   "source": [
    "# CNN part of model"
   ]
  },
  {
   "cell_type": "code",
   "execution_count": null,
   "metadata": {},
   "outputs": [],
   "source": [
    "def buildCNN(inputs):\n",
    "    # in (None, 32, 128, 1)\n",
    "    # out(None, 1, 32, 256) -> (None, 32, 256)\n",
    "    with tf.name_scope(\"CNN\"):\n",
    "        # Layer 1\n",
    "        x = conv2d(inputs=inputs, filters=32, kernel_size=[5, 5], padding='same', activation=relu)\n",
    "        x = max_pooling2d(x, pool_size=[2, 2], strides=[2, 2], padding=\"valid\")\n",
    "\n",
    "        # Layer 2\n",
    "        x = conv2d(inputs=x, filters=64, kernel_size=[5, 5], padding='same', activation=relu)\n",
    "        x = max_pooling2d(x, pool_size=[2, 2], strides=[2, 2], padding=\"valid\")\n",
    "\n",
    "        # Layer 3\n",
    "        x = conv2d(inputs=x, filters=128, kernel_size=[3, 3], padding='same', activation=relu)\n",
    "        x = max_pooling2d(x, pool_size=[2, 1], strides=[2, 1], padding=\"valid\")\n",
    "\n",
    "        # Layer 4\n",
    "        x = conv2d(inputs=x, filters=128, kernel_size=[3, 3], padding='same', activation=relu)\n",
    "        x = max_pooling2d(x, pool_size=[2, 1], strides=[2, 1], padding=\"valid\")\n",
    "\n",
    "        # Layer 5\n",
    "        x = conv2d(inputs=x, filters=256, kernel_size=[3, 3], padding='same', activation=relu)\n",
    "        x = max_pooling2d(x, pool_size=[2, 1], strides=[2, 1], padding=\"valid\")\n",
    "\n",
    "    x = tf.squeeze(x, axis=1)\n",
    "    return x"
   ]
  },
  {
   "cell_type": "code",
   "execution_count": null,
   "metadata": {},
   "outputs": [],
   "source": [
    "def buildRNN(inputs):\n",
    "    with tf.name_scope(\"RNN\"):\n",
    "        # basic cells which is used to build RNN\n",
    "        numHidden = 256\n",
    "        cells = [tf.contrib.rnn.LSTMCell(num_units=numHidden, state_is_tuple=True) for _ in range(2)] # 2 layers\n",
    "\n",
    "        # stack basic cells\n",
    "        stacked = tf.contrib.rnn.MultiRNNCell(cells, state_is_tuple=True)\n",
    "\n",
    "        # bidirectional RNN\n",
    "        # BxTxF -> BxTx2H\n",
    "        ((fw, bw), _) = tf.nn.bidirectional_dynamic_rnn(cell_fw=stacked, cell_bw=stacked, inputs=inputs, dtype=inputs.dtype)\n",
    "\n",
    "        # BxTxH + BxTxH -> BxTx2H -> BxTx1X2H\n",
    "        concat = tf.expand_dims(tf.concat([fw, bw], 2), 2)\n",
    "\n",
    "        # project output to chars (including blank): BxTx1x2H -> BxTx1xC -> BxTxC\n",
    "        kernel = tf.Variable(tf.truncated_normal([1, 1, numHidden * 2, len(charList) + 1], stddev=0.1))\n",
    "        output = tf.squeeze(tf.nn.atrous_conv2d(value=concat, filters=kernel, rate=1, padding='SAME'), axis=2)\n",
    "\n",
    "    return output"
   ]
  },
  {
   "cell_type": "code",
   "execution_count": null,
   "metadata": {},
   "outputs": [],
   "source": [
    "with tf.variable_scope(\"model\", reuse=tf.AUTO_REUSE):\n",
    "    inputImgs = tf.placeholder(tf.float32, shape=(None, 32, 128, 1))\n",
    "    cnn = buildCNN(inputImgs)\n",
    "    rnn = buildRNN(cnn)"
   ]
  },
  {
   "cell_type": "code",
   "execution_count": null,
   "metadata": {},
   "outputs": [],
   "source": [
    "with tf.Session() as sess:\n",
    "    writer = tf.summary.FileWriter(\"logs\", sess.graph)"
   ]
  },
  {
   "cell_type": "code",
   "execution_count": null,
   "metadata": {},
   "outputs": [],
   "source": []
  }
 ],
 "metadata": {
  "kernelspec": {
   "display_name": "Python 3",
   "language": "python",
   "name": "python3"
  },
  "language_info": {
   "codemirror_mode": {
    "name": "ipython",
    "version": 3
   },
   "file_extension": ".py",
   "mimetype": "text/x-python",
   "name": "python",
   "nbconvert_exporter": "python",
   "pygments_lexer": "ipython3",
   "version": "3.6.8"
  }
 },
 "nbformat": 4,
 "nbformat_minor": 2
}
