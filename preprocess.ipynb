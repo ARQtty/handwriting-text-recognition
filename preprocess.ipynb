{
 "cells": [
  {
   "cell_type": "code",
   "execution_count": 3,
   "metadata": {},
   "outputs": [],
   "source": [
    "import numpy as np\n",
    "import cv2\n",
    "import pandas as pd\n",
    "import matplotlib.pyplot as plt\n",
    "import matplotlib.image as mpimg\n",
    "from os.path import getsize\n",
    "%matplotlib inline\n",
    "\n",
    "datadir = \"./data/\"\n",
    "wordsFile = datadir + \"words.txt\""
   ]
  },
  {
   "cell_type": "markdown",
   "metadata": {},
   "source": [
    "# Load dataframe with metainf"
   ]
  },
  {
   "cell_type": "code",
   "execution_count": 4,
   "metadata": {},
   "outputs": [],
   "source": [
    "def loadWords():\n",
    "    columns=['filename', 'word', 'greylvl']\n",
    "    \n",
    "    with open(wordsFile, 'r') as words:\n",
    "        rowsList = []\n",
    "        for line in words:\n",
    "            \n",
    "            # if comment\n",
    "            if line[0] == \"#\":\n",
    "                continue\n",
    "                \n",
    "            data = line.split()\n",
    "            data = [data[0], data[8], data[2]]        \n",
    "            row = dict( (colName, data[i]) for i, colName in enumerate(columns))\n",
    "            \n",
    "            rowsList.append(row)\n",
    "    \n",
    "    df = pd.DataFrame(rowsList, columns=columns)\n",
    "    return df"
   ]
  },
  {
   "cell_type": "code",
   "execution_count": 5,
   "metadata": {},
   "outputs": [
    {
     "name": "stdout",
     "output_type": "stream",
     "text": [
      "         filename  word greylvl\n",
      "0  a01-000u-00-00     A     154\n",
      "1  a01-000u-00-01  MOVE     154\n",
      "2  a01-000u-00-02    to     154\n",
      "3  a01-000u-00-03  stop     154\n",
      "4  a01-000u-00-04   Mr.     154\n",
      "Dataframe shape: (115320, 3)\n"
     ]
    }
   ],
   "source": [
    "df = loadWords()\n",
    "print(df.head())\n",
    "print(\"Dataframe shape:\", df.shape)"
   ]
  },
  {
   "cell_type": "markdown",
   "metadata": {},
   "source": [
    "# Function for prepare each image\n",
    "Resizes and pastes into (32, 128) pattern. This shape is equal to receptive field of nn"
   ]
  },
  {
   "cell_type": "code",
   "execution_count": 6,
   "metadata": {},
   "outputs": [],
   "source": [
    "\n",
    "def preprocessImg(filename):\n",
    "    # Read and load\n",
    "    filename = filename.split(\"-\")\n",
    "    path = \"/\".join([datadir + \"words\", filename[0], \"-\".join(filename[:2]), \"-\".join(filename)+'.png'])\n",
    "  \n",
    "    if not (getsize(path)):\n",
    "        print(\"Corrupted file \"+path)\n",
    "        return np.zeros((32, 128))\n",
    "    try:\n",
    "        img = mpimg.imread(path)\n",
    "    except:\n",
    "        print(\"Problem with loading file \"+path)\n",
    "        return np.zeros((32, 128))\n",
    "\n",
    "    \n",
    "    # Resize\n",
    "    (targetW, targetH) = (128, 32)\n",
    "    (imgH, imgW) = img.shape\n",
    "    \n",
    "    fy = targetH / imgH\n",
    "    fx = targetW / imgW\n",
    "    f = min(fx, fy)\n",
    "    \n",
    "    newSize = (int(np.trunc(imgW*f)), int(np.trunc(imgH*f)))\n",
    "    newImg = cv2.resize(img, newSize)\n",
    "    \n",
    "    \n",
    "    # Fill to NN pattern\n",
    "    pattern = np.ones((32, 128)) * 255\n",
    "    pattern[0:newSize[1], 0:newSize[0]] = np.trunc(newImg * 255)\n",
    "\n",
    "    return pattern"
   ]
  },
  {
   "cell_type": "code",
   "execution_count": 7,
   "metadata": {},
   "outputs": [
    {
     "data": {
      "text/plain": [
       "<matplotlib.image.AxesImage at 0x7fa115e9a630>"
      ]
     },
     "execution_count": 7,
     "metadata": {},
     "output_type": "execute_result"
    },
    {
     "data": {
      "image/png": "[encoded data removed]",
      "text/plain": [
       "<Figure size 432x288 with 1 Axes>"
      ]
     },
     "metadata": {},
     "output_type": "display_data"
    }
   ],
   "source": [
    "plt.imshow(preprocessImg(\"a01-000u-00-02\"), cmap='gray')"
   ]
  },
  {
   "cell_type": "markdown",
   "metadata": {},
   "source": [
    "# Image data generator"
   ]
  },
  {
   "cell_type": "code",
   "execution_count": 9,
   "metadata": {},
   "outputs": [],
   "source": [
    "def batchGenerator(batchSize=1024, mode='train'):\n",
    "    start = 0\n",
    "    # 95% for train\n",
    "    stop = int(df.shape[0] * 0.95)\n",
    "    num = 0\n",
    "    \n",
    "    if (mode == 'valid'):\n",
    "            # 5% for validation\n",
    "            self.start = int(df.shape[0]*0.95)\n",
    "            self.stop = df.shape[0]\n",
    "    \n",
    "    while start + batchSize < stop:\n",
    "        num += 1\n",
    "        pathes = df.loc[start:start+batchSize, 'filename']\n",
    "        imgs = [preprocessImg(path) for path in pathes]\n",
    "        batch = np.stack(imgs, axis=0)\n",
    "        start += batchSize\n",
    "        \n",
    "        yield batch"
   ]
  },
  {
   "cell_type": "code",
   "execution_count": 11,
   "metadata": {
    "scrolled": false
   },
   "outputs": [
    {
     "name": "stdout",
     "output_type": "stream",
     "text": [
      "Corrupted file ./data/words/a01/a01-117/a01-117-05-02.png\n",
      "Batch 1\n",
      "(8193, 32, 128)\n",
      "Batch 2\n",
      "(8193, 32, 128)\n",
      "Batch 3\n",
      "(8193, 32, 128)\n",
      "Batch 4\n",
      "(8193, 32, 128)\n",
      "Batch 5\n",
      "(8193, 32, 128)\n",
      "Batch 6\n",
      "(8193, 32, 128)\n",
      "Batch 7\n",
      "(8193, 32, 128)\n",
      "Batch 8\n",
      "(8193, 32, 128)\n",
      "Batch 9\n",
      "(8193, 32, 128)\n",
      "Batch 10\n",
      "(8193, 32, 128)\n",
      "Batch 11\n",
      "(8193, 32, 128)\n",
      "Batch 12\n",
      "(8193, 32, 128)\n",
      "Batch 13\n",
      "(8193, 32, 128)\n"
     ]
    }
   ],
   "source": [
    "for batch in batchGenerator(batchSize=8192, mode='train'):\n",
    "    print(batch.shape)"
   ]
  },
  {
   "cell_type": "code",
   "execution_count": null,
   "metadata": {},
   "outputs": [],
   "source": []
  }
 ],
 "metadata": {
  "kernelspec": {
   "display_name": "Python 3",
   "language": "python",
   "name": "python3"
  },
  "language_info": {
   "codemirror_mode": {
    "name": "ipython",
    "version": 3
   },
   "file_extension": ".py",
   "mimetype": "text/x-python",
   "name": "python",
   "nbconvert_exporter": "python",
   "pygments_lexer": "ipython3",
   "version": "3.6.8"
  }
 },
 "nbformat": 4,
 "nbformat_minor": 2
}
