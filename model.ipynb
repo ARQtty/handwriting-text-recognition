{
 "cells": [
  {
   "cell_type": "code",
   "execution_count": 1,
   "metadata": {},
   "outputs": [],
   "source": [
    "import tensorflow as tf\n",
    "import numpy as np\n",
    "from tensorflow.layers import conv2d, max_pooling2d, flatten\n",
    "from tensorflow.nn import relu\n",
    "\n",
    "import preprocess"
   ]
  },
  {
   "cell_type": "code",
   "execution_count": 2,
   "metadata": {},
   "outputs": [
    {
     "name": "stdout",
     "output_type": "stream",
     "text": [
      "Dataset contains 79 chars\n"
     ]
    }
   ],
   "source": [
    "# IAM dataset contains 79 chars\n",
    "charList = preprocess.loadCharList() + '~'\n",
    "print(\"Dataset contains %d chars\" % len(charList))\n",
    "maxTextLen = 32"
   ]
  },
  {
   "cell_type": "markdown",
   "metadata": {},
   "source": [
    "## Example image"
   ]
  },
  {
   "cell_type": "code",
   "execution_count": 3,
   "metadata": {},
   "outputs": [
    {
     "data": {
      "text/plain": [
       "<matplotlib.image.AxesImage at 0x7f53927b1d30>"
      ]
     },
     "execution_count": 3,
     "metadata": {},
     "output_type": "execute_result"
    },
    {
     "data": {
      "image/png": "[encoded data removed]",
      "text/plain": [
       "<Figure size 432x288 with 1 Axes>"
      ]
     },
     "metadata": {},
     "output_type": "display_data"
    }
   ],
   "source": [
    "from matplotlib import pyplot as plt\n",
    "%matplotlib inline\n",
    "img = np.trunc(np.random.random((32, 128)) * 255)\n",
    "plt.imshow(img, cmap='gray')"
   ]
  },
  {
   "cell_type": "markdown",
   "metadata": {},
   "source": [
    "# Building model\n"
   ]
  },
  {
   "cell_type": "code",
   "execution_count": 4,
   "metadata": {},
   "outputs": [],
   "source": [
    "def buildCNN(inputImgs):\n",
    "    # in (None, 32, 128, 1)\n",
    "    # out(None, 1, 32, 256) -> (None, 32, 256)\n",
    "    with tf.name_scope(\"CNN\"):\n",
    "        x = tf.expand_dims(input=inputImgs, axis=3)\n",
    "        \n",
    "        # Layer 1\n",
    "        x = conv2d(inputs=x, filters=32, kernel_size=[5, 5], padding='same', activation=relu)\n",
    "        x = max_pooling2d(x, pool_size=[2, 2], strides=[2, 2], padding=\"valid\")\n",
    "\n",
    "        # Layer 2\n",
    "        x = conv2d(inputs=x, filters=64, kernel_size=[5, 5], padding='same', activation=relu)\n",
    "        x = max_pooling2d(x, pool_size=[2, 2], strides=[2, 2], padding=\"valid\")\n",
    "\n",
    "        # Layer 3\n",
    "        x = conv2d(inputs=x, filters=128, kernel_size=[3, 3], padding='same', activation=relu)\n",
    "        x = max_pooling2d(x, pool_size=[2, 1], strides=[2, 1], padding=\"valid\")\n",
    "\n",
    "        # Layer 4\n",
    "        x = conv2d(inputs=x, filters=128, kernel_size=[3, 3], padding='same', activation=relu)\n",
    "        x = max_pooling2d(x, pool_size=[2, 1], strides=[2, 1], padding=\"valid\")\n",
    "\n",
    "        # Layer 5\n",
    "        x = conv2d(inputs=x, filters=256, kernel_size=[3, 3], padding='same', activation=relu)\n",
    "        x = max_pooling2d(x, pool_size=[2, 1], strides=[2, 1], padding=\"valid\")\n",
    "\n",
    "    x = tf.squeeze(x, axis=1)\n",
    "    return x"
   ]
  },
  {
   "cell_type": "code",
   "execution_count": 5,
   "metadata": {},
   "outputs": [],
   "source": [
    "def buildRNN(inputs):\n",
    "    with tf.name_scope(\"RNN\"):\n",
    "        # basic cells which is used to build RNN\n",
    "        numHidden = 256\n",
    "        cells = [tf.contrib.rnn.LSTMCell(num_units=numHidden, state_is_tuple=True) for _ in range(2)] # 2 layers\n",
    "\n",
    "        # stack basic cells\n",
    "        stacked = tf.contrib.rnn.MultiRNNCell(cells, state_is_tuple=True)\n",
    "\n",
    "        # bidirectional RNN\n",
    "        # BxTxF -> BxTx2H\n",
    "        ((fw, bw), _) = tf.nn.bidirectional_dynamic_rnn(cell_fw=stacked, \n",
    "                                                        cell_bw=stacked, \n",
    "                                                        inputs=inputs, \n",
    "                                                        dtype=inputs.dtype)\n",
    "\n",
    "        # BxTxH + BxTxH -> BxTx2H -> BxTx1X2H\n",
    "        concat = tf.expand_dims(tf.concat([fw, bw], 2), 2)\n",
    "\n",
    "        # project output to chars (including blank): BxTx1x2H -> BxTx1xC -> BxTxC\n",
    "        kernel = tf.Variable(tf.truncated_normal([1, 1, numHidden * 2, len(charList) + 1], stddev=0.1))\n",
    "        output = tf.squeeze(tf.nn.atrous_conv2d(value=concat, filters=kernel, rate=1, padding='SAME'), axis=2)\n",
    "\n",
    "    return output"
   ]
  },
  {
   "cell_type": "code",
   "execution_count": 6,
   "metadata": {},
   "outputs": [],
   "source": [
    "def buildCTC(inputs):\n",
    "    with tf.name_scope(\"CTC\"):\n",
    "        x = tf.transpose(inputs, [1, 0, 2])\n",
    "        # ground truth text as sparse tensor\n",
    "        gtTextsPlaceholder = tf.SparseTensor(tf.placeholder(tf.int64, shape=[None, 2]), \n",
    "                                             tf.placeholder(tf.int32, [None]), \n",
    "                                             tf.placeholder(tf.int64, [2]))\n",
    "\n",
    "        # calc loss for batch\n",
    "        seqLenPlaceholder = tf.placeholder(tf.int32, [None])\n",
    "        loss = tf.reduce_mean(tf.nn.ctc_loss(labels=gtTextsPlaceholder, \n",
    "                                             inputs=x, \n",
    "                                             sequence_length=seqLenPlaceholder, \n",
    "                                             ctc_merge_repeated=True))\n",
    "\n",
    "        # calc loss for each element to compute label probability\n",
    "        savedCtcInput = tf.placeholder(tf.float32, shape=[maxTextLen, None, len(charList) + 1])\n",
    "        lossPerElement = tf.nn.ctc_loss(labels=gtTextsPlaceholder, \n",
    "                                        inputs=savedCtcInput, \n",
    "                                        sequence_length=seqLenPlaceholder, \n",
    "                                        ctc_merge_repeated=True)\n",
    "\n",
    "        # decoder: either best path decoding or beam search decoding\n",
    "        decoder = tf.nn.ctc_beam_search_decoder(inputs=x, \n",
    "                                                sequence_length=seqLenPlaceholder, \n",
    "                                                beam_width=50, \n",
    "                                                merge_repeated=False)\n",
    "    \n",
    "    \n",
    "    return (gtTextsPlaceholder, seqLenPlaceholder, loss)"
   ]
  },
  {
   "cell_type": "markdown",
   "metadata": {},
   "source": [
    "# Data flow functions"
   ]
  },
  {
   "cell_type": "code",
   "execution_count": 7,
   "metadata": {},
   "outputs": [],
   "source": [
    "def toSparse(gtTexts):\n",
    "    # puts ground truth texts into sparse tensor for ctc_loss\n",
    "    indices = []\n",
    "    values = []\n",
    "    shape = [len(gtTexts), 0] # last entry must be max(labelList[i])\n",
    "\n",
    "    # go over all texts\n",
    "    for (batchElement, text) in enumerate(gtTexts):\n",
    "        # convert to string of label (i.e. class-ids)\n",
    "        try:\n",
    "            labelStr = [charList.index(c) for c in text]\n",
    "        except Exception as e:\n",
    "            print(\"cant find char in %s\" % text)\n",
    "            raise e\n",
    "        # sparse tensor must have size of max. label-string\n",
    "        if len(labelStr) > shape[1]:\n",
    "            shape[1] = len(labelStr)\n",
    "        # put each label into sparse tensor\n",
    "        for (i, label) in enumerate(labelStr):\n",
    "            indices.append([batchElement, i])\n",
    "            values.append(label)\n",
    "\n",
    "    return (indices, values, shape)\n"
   ]
  },
  {
   "cell_type": "markdown",
   "metadata": {},
   "source": [
    "# build net's graph"
   ]
  },
  {
   "cell_type": "code",
   "execution_count": null,
   "metadata": {
    "scrolled": false
   },
   "outputs": [
    {
     "name": "stderr",
     "output_type": "stream",
     "text": [
      "WARNING: Logging before flag parsing goes to stderr.\n",
      "W0817 21:27:01.930171 139999106164544 deprecation.py:323] From <ipython-input-4-8c4604910851>:8: conv2d (from tensorflow.python.layers.convolutional) is deprecated and will be removed in a future version.\n",
      "Instructions for updating:\n",
      "Use `tf.keras.layers.Conv2D` instead.\n",
      "W0817 21:27:01.935371 139999106164544 deprecation.py:506] From /usr/local/lib/python3.6/dist-packages/tensorflow/python/ops/init_ops.py:1251: calling VarianceScaling.__init__ (from tensorflow.python.ops.init_ops) with dtype is deprecated and will be removed in a future version.\n",
      "Instructions for updating:\n",
      "Call initializer instance with the dtype argument instead of passing it to the constructor\n",
      "W0817 21:27:02.231837 139999106164544 deprecation.py:323] From <ipython-input-4-8c4604910851>:9: max_pooling2d (from tensorflow.python.layers.pooling) is deprecated and will be removed in a future version.\n",
      "Instructions for updating:\n",
      "Use keras.layers.MaxPooling2D instead.\n",
      "W0817 21:27:03.139019 139999106164544 lazy_loader.py:50] \n",
      "The TensorFlow contrib module will not be included in TensorFlow 2.0.\n",
      "For more information, please see:\n",
      "  * https://github.com/tensorflow/community/blob/master/rfcs/20180907-contrib-sunset.md\n",
      "  * https://github.com/tensorflow/addons\n",
      "  * https://github.com/tensorflow/io (for I/O related ops)\n",
      "If you depend on functionality not listed there, please file an issue.\n",
      "\n",
      "W0817 21:27:03.139976 139999106164544 deprecation.py:323] From <ipython-input-5-bd0c62d49d17>:5: LSTMCell.__init__ (from tensorflow.python.ops.rnn_cell_impl) is deprecated and will be removed in a future version.\n",
      "Instructions for updating:\n",
      "This class is equivalent as tf.keras.layers.LSTMCell, and will be replaced by that in Tensorflow 2.0.\n",
      "W0817 21:27:03.141154 139999106164544 deprecation.py:323] From <ipython-input-5-bd0c62d49d17>:8: MultiRNNCell.__init__ (from tensorflow.python.ops.rnn_cell_impl) is deprecated and will be removed in a future version.\n",
      "Instructions for updating:\n",
      "This class is equivalent as tf.keras.layers.StackedRNNCells, and will be replaced by that in Tensorflow 2.0.\n",
      "W0817 21:27:03.142056 139999106164544 deprecation.py:323] From <ipython-input-5-bd0c62d49d17>:15: bidirectional_dynamic_rnn (from tensorflow.python.ops.rnn) is deprecated and will be removed in a future version.\n",
      "Instructions for updating:\n",
      "Please use `keras.layers.Bidirectional(keras.layers.RNN(cell))`, which is equivalent to this API\n",
      "W0817 21:27:03.142906 139999106164544 deprecation.py:323] From /usr/local/lib/python3.6/dist-packages/tensorflow/python/ops/rnn.py:464: dynamic_rnn (from tensorflow.python.ops.rnn) is deprecated and will be removed in a future version.\n",
      "Instructions for updating:\n",
      "Please use `keras.layers.RNN(cell)`, which is equivalent to this API\n",
      "W0817 21:27:03.502643 139999106164544 deprecation.py:506] From /usr/local/lib/python3.6/dist-packages/tensorflow/python/ops/rnn_cell_impl.py:961: calling Zeros.__init__ (from tensorflow.python.ops.init_ops) with dtype is deprecated and will be removed in a future version.\n",
      "Instructions for updating:\n",
      "Call initializer instance with the dtype argument instead of passing it to the constructor\n",
      "W0817 21:27:05.305155 139999106164544 deprecation.py:506] From /usr/local/lib/python3.6/dist-packages/tensorflow/python/training/rmsprop.py:119: calling Ones.__init__ (from tensorflow.python.ops.init_ops) with dtype is deprecated and will be removed in a future version.\n",
      "Instructions for updating:\n",
      "Call initializer instance with the dtype argument instead of passing it to the constructor\n"
     ]
    }
   ],
   "source": [
    "with tf.variable_scope(\"model\", reuse=tf.AUTO_REUSE):\n",
    "    inputImgsPlaceholder = tf.placeholder(tf.float32, shape=(None, 32, 128))\n",
    "    cnn = buildCNN(inputImgsPlaceholder)\n",
    "    rnn = buildRNN(cnn)\n",
    "    gtTextsPlaceholder, seqLenPlaceholder, loss = buildCTC(rnn)\n",
    "    \n",
    "    learningRatePlaceholder = tf.placeholder(tf.float32, shape=[])\n",
    "    update_ops = tf.get_collection(tf.GraphKeys.UPDATE_OPS) \n",
    "    with tf.control_dependencies(update_ops):\n",
    "        optimizer = tf.train.RMSPropOptimizer(learningRatePlaceholder).minimize(loss)\n"
   ]
  },
  {
   "cell_type": "markdown",
   "metadata": {},
   "source": [
    "# Train network"
   ]
  },
  {
   "cell_type": "code",
   "execution_count": null,
   "metadata": {
    "scrolled": false
   },
   "outputs": [
    {
     "name": "stderr",
     "output_type": "stream",
     "text": [
      "W0817 21:27:06.417391 139999106164544 deprecation.py:323] From /usr/local/lib/python3.6/dist-packages/tensorflow/python/util/tf_should_use.py:193: initialize_all_variables (from tensorflow.python.ops.variables) is deprecated and will be removed after 2017-03-02.\n",
      "Instructions for updating:\n",
      "Use `tf.global_variables_initializer` instead.\n"
     ]
    },
    {
     "name": "stdout",
     "output_type": "stream",
     "text": [
      "Batch 0  loss: 119.27845\n",
      "Batch 1  loss: 124.26478\n",
      "Batch 2  loss: 121.88769\n",
      "Batch 3  loss: 112.36948\n",
      "Batch 4  loss: 122.33439\n",
      "Batch 5  loss: 121.783195\n",
      "Batch 6  loss: 119.25175\n",
      "Batch 7  loss: 120.00135\n",
      "Corrupted file ./data/words/a01/a01-117/a01-117-05-02.png\n",
      "Batch 8  loss: 121.71549\n",
      "Batch 9  loss: 116.92776\n",
      "Batch 10  loss: 122.30351\n",
      "Batch 11  loss: 125.79162\n",
      "Batch 12  loss: 122.46862\n",
      "Batch 13  loss: 124.24313\n",
      "Batch 14  loss: 128.01035\n",
      "Batch 15  loss: 123.210915\n",
      "Batch 16  loss: 118.34146\n",
      "Batch 17  loss: 128.12994\n",
      "Batch 18  loss: 123.05305\n",
      "Batch 19  loss: 116.86155\n",
      "Batch 20  loss: 119.795944\n",
      "Batch 21  loss: 130.1996\n",
      "Batch 22  loss: 127.40828\n",
      "Batch 23  loss: 119.045135\n",
      "Batch 24  loss: 124.261314\n",
      "Batch 25  loss: 126.803566\n",
      "Batch 26  loss: 122.09421\n",
      "Batch 27  loss: 123.871574\n",
      "Batch 28  loss: 117.63536\n",
      "Batch 29  loss: 122.10536\n",
      "Batch 30  loss: 119.97058\n",
      "Batch 31  loss: 127.85928\n",
      "Batch 32  loss: 117.72732\n",
      "Batch 33  loss: 121.64046\n",
      "Batch 34  loss: 119.643265\n",
      "Batch 35  loss: 123.152885\n",
      "Batch 36  loss: 124.353806\n",
      "Batch 37  loss: 124.90635\n",
      "Batch 38  loss: 122.85792\n",
      "Batch 39  loss: 126.79936\n",
      "Batch 40  loss: 117.985664\n",
      "Batch 41  loss: 126.511154\n",
      "Batch 42  loss: 119.783226\n",
      "Batch 43  loss: 117.875786\n",
      "Batch 44  loss: 109.23018\n",
      "Batch 45  loss: 122.23321\n",
      "Batch 46  loss: 117.89648\n",
      "Batch 47  loss: 124.70199\n",
      "Batch 48  loss: 126.23427\n",
      "Batch 49  loss: 127.617485\n",
      "Batch 50  loss: 124.97808\n",
      "Batch 51  loss: 124.39101\n",
      "Batch 52  loss: 113.00723\n",
      "Batch 53  loss: 122.74174\n",
      "Batch 54  loss: 126.01398\n",
      "Batch 55  loss: 124.19125\n",
      "Batch 56  loss: 127.20404\n",
      "Batch 57  loss: 128.53696\n",
      "Batch 58  loss: 124.8497\n",
      "Batch 59  loss: 120.54218\n",
      "Batch 60  loss: 113.60393\n",
      "Batch 61  loss: 126.02356\n",
      "Batch 62  loss: 130.91356\n",
      "Batch 63  loss: 124.32542\n",
      "Batch 64  loss: 118.41129\n",
      "Batch 65  loss: 123.74642\n",
      "Batch 66  loss: 122.91396\n",
      "Batch 67  loss: 121.89575\n",
      "Batch 68  loss: 128.83928\n",
      "Batch 69  loss: 125.48073\n",
      "Batch 70  loss: 131.34567\n",
      "Batch 71  loss: 123.40748\n",
      "Batch 72  loss: 111.72565\n",
      "Batch 73  loss: 127.68645\n",
      "Batch 74  loss: 121.05808\n",
      "Batch 75  loss: 129.6078\n",
      "Batch 76  loss: 122.744896\n",
      "Batch 77  loss: 123.17767\n",
      "Batch 78  loss: 109.68974\n",
      "Batch 79  loss: 122.56246\n",
      "Batch 80  loss: 113.731316\n",
      "Batch 81  loss: 120.55001\n",
      "Batch 82  loss: 121.18232\n",
      "Batch 83  loss: 121.381546\n",
      "Batch 84  loss: 125.56667\n",
      "Batch 85  loss: 125.89836\n",
      "Batch 86  loss: 115.966125\n",
      "Batch 87  loss: 118.34823\n",
      "Batch 88  loss: 117.46331\n",
      "Batch 89  loss: 118.09185\n",
      "Batch 90  loss: 110.48017\n",
      "Batch 91  loss: 118.10194\n",
      "Batch 92  loss: 126.93292\n",
      "Batch 93  loss: 122.91607\n",
      "Batch 94  loss: 126.91643\n",
      "Batch 95  loss: 119.13926\n",
      "Batch 96  loss: 123.641754\n",
      "Batch 97  loss: 120.84187\n",
      "Batch 98  loss: 120.57709\n",
      "Batch 99  loss: 122.709435\n",
      "Batch 100  loss: 124.09557\n",
      "Batch 101  loss: 121.74459\n",
      "Batch 102  loss: 125.605194\n",
      "Batch 103  loss: 118.20102\n"
     ]
    }
   ],
   "source": [
    "batchesTrained = 0\n",
    "\n",
    "batchesLimit = 10e5\n",
    "processedBatches = 0\n",
    "\n",
    "with tf.Session() as sess:\n",
    "    writer = tf.summary.FileWriter(\"logs\", sess.graph)\n",
    "    \n",
    "    for batch in preprocess.batchGenerator(batchSize=4096):\n",
    "        imgs = batch[0]\n",
    "        gtTexts = batch[1]\n",
    "        batchLen = len(imgs)\n",
    "        sparse = toSparse(gtTexts)\n",
    "        rate = 0.01 if batchesTrained < 10 else (0.001 if batchesTrained < 10000 else 0.0001) # decay learning rate\n",
    "\n",
    "        evalList = [optimizer, loss]\n",
    "        feedDict = {inputImgsPlaceholder : imgs, \n",
    "                    gtTextsPlaceholder : sparse , \n",
    "                    seqLenPlaceholder : [maxTextLen] * batchLen, \n",
    "                    learningRatePlaceholder : rate}\n",
    "        sess.run(tf.initialize_all_variables())\n",
    "        (_, lossVal) = sess.run(evalList, feedDict)\n",
    "        batchesTrained += 1\n",
    "\n",
    "        print(\"Batch %d  loss:\" % processedBatches, lossVal)\n",
    "\n",
    "        if processedBatches == batchesLimit:\n",
    "            break\n",
    "        else:\n",
    "            processedBatches += 1"
   ]
  },
  {
   "cell_type": "code",
   "execution_count": null,
   "metadata": {},
   "outputs": [],
   "source": []
  }
 ],
 "metadata": {
  "kernelspec": {
   "display_name": "Python 3",
   "language": "python",
   "name": "python3"
  },
  "language_info": {
   "codemirror_mode": {
    "name": "ipython",
    "version": 3
   },
   "file_extension": ".py",
   "mimetype": "text/x-python",
   "name": "python",
   "nbconvert_exporter": "python",
   "pygments_lexer": "ipython3",
   "version": "3.6.8"
  }
 },
 "nbformat": 4,
 "nbformat_minor": 2
}
